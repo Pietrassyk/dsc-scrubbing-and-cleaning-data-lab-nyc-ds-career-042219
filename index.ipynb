{
 "cells": [
  {
   "cell_type": "markdown",
   "metadata": {},
   "source": [
    "# Scrubbing and Cleaning Data - Lab\n",
    "\n",
    "## Introduction\n",
    "\n",
    "In the previous labs, you joined the data from our separate files into a single DataFrame.  In this lab, you'll scrub the data to get it ready for exploration and modeling!\n",
    "\n",
    "## Objectives\n",
    "\n",
    "You will be able to:\n",
    "\n",
    "* Cast columns to the appropriate data types\n",
    "* Identify and deal with null values appropriately\n",
    "* Remove unnecessary columns\n",
    "* Understand how to normalize data\n",
    "\n",
    "\n",
    "## Getting Started\n",
    "\n",
    "You'll find the resulting dataset from our work in the _Obtaining Data_ Lab stored within the file `walmart_data_not_cleaned.csv`.  \n",
    "\n",
    "In the cells below:\n",
    "\n",
    "* Import pandas and set the standard alias\n",
    "* Import numpy and set the standard alias\n",
    "* Import matplotlib.pyplot and set the standard alias\n",
    "* Import seaborn and set the alias `sns` (this is the standard alias for seaborn)\n",
    "* Use the ipython magic command to set all matplotlib visualizations to display inline in the notebook\n",
    "* Load the dataset stored in the .csv file into a DataFrame using pandas\n",
    "* Inspect the head of the DataFrame to ensure everything loaded correctly"
   ]
  },
  {
   "cell_type": "code",
   "execution_count": 2,
   "metadata": {},
   "outputs": [],
   "source": [
    "# Import statements go here\n",
    "import pandas as pd\n",
    "import numpy as np\n",
    "import matplotlib.pyplot as plt\n",
    "import seaborn as sns\n",
    "%matplotlib inline"
   ]
  },
  {
   "cell_type": "code",
   "execution_count": 3,
   "metadata": {},
   "outputs": [
    {
     "name": "stdout",
     "output_type": "stream",
     "text": [
      "CONTRIBUTING.md  index.ipynb  Lego_data_merged.csv  LICENSE.md\tREADME.md\r\n"
     ]
    }
   ],
   "source": [
    "!ls"
   ]
  },
  {
   "cell_type": "code",
   "execution_count": 4,
   "metadata": {},
   "outputs": [
    {
     "data": {
      "text/html": [
       "<div>\n",
       "<style scoped>\n",
       "    .dataframe tbody tr th:only-of-type {\n",
       "        vertical-align: middle;\n",
       "    }\n",
       "\n",
       "    .dataframe tbody tr th {\n",
       "        vertical-align: top;\n",
       "    }\n",
       "\n",
       "    .dataframe thead th {\n",
       "        text-align: right;\n",
       "    }\n",
       "</style>\n",
       "<table border=\"1\" class=\"dataframe\">\n",
       "  <thead>\n",
       "    <tr style=\"text-align: right;\">\n",
       "      <th></th>\n",
       "      <th>prod_id</th>\n",
       "      <th>ages</th>\n",
       "      <th>piece_count</th>\n",
       "      <th>set_name</th>\n",
       "      <th>prod_desc</th>\n",
       "      <th>prod_long_desc</th>\n",
       "      <th>theme_name</th>\n",
       "      <th>country</th>\n",
       "      <th>list_price</th>\n",
       "      <th>num_reviews</th>\n",
       "      <th>play_star_rating</th>\n",
       "      <th>review_difficulty</th>\n",
       "      <th>star_rating</th>\n",
       "      <th>val_star_rating</th>\n",
       "    </tr>\n",
       "  </thead>\n",
       "  <tbody>\n",
       "    <tr>\n",
       "      <th>0</th>\n",
       "      <td>75823</td>\n",
       "      <td>6-12</td>\n",
       "      <td>277</td>\n",
       "      <td>Bird Island Egg Heist</td>\n",
       "      <td>Catapult into action and take back the eggs fr...</td>\n",
       "      <td>Use the staircase catapult to launch Red into ...</td>\n",
       "      <td>Angry Birds™</td>\n",
       "      <td>US</td>\n",
       "      <td>$29.99</td>\n",
       "      <td>2.0</td>\n",
       "      <td>4.0</td>\n",
       "      <td>Average</td>\n",
       "      <td>4.5</td>\n",
       "      <td>4.0</td>\n",
       "    </tr>\n",
       "    <tr>\n",
       "      <th>1</th>\n",
       "      <td>75822</td>\n",
       "      <td>6-12</td>\n",
       "      <td>168</td>\n",
       "      <td>Piggy Plane Attack</td>\n",
       "      <td>Launch a flying attack and rescue the eggs fro...</td>\n",
       "      <td>Pilot Pig has taken off from Bird Island with ...</td>\n",
       "      <td>Angry Birds™</td>\n",
       "      <td>US</td>\n",
       "      <td>$19.99</td>\n",
       "      <td>2.0</td>\n",
       "      <td>4.0</td>\n",
       "      <td>Easy</td>\n",
       "      <td>5.0</td>\n",
       "      <td>4.0</td>\n",
       "    </tr>\n",
       "    <tr>\n",
       "      <th>2</th>\n",
       "      <td>75821</td>\n",
       "      <td>6-12</td>\n",
       "      <td>74</td>\n",
       "      <td>Piggy Car Escape</td>\n",
       "      <td>Chase the piggy with lightning-fast Chuck and ...</td>\n",
       "      <td>Pitch speedy bird Chuck against the Piggy Car....</td>\n",
       "      <td>Angry Birds™</td>\n",
       "      <td>US</td>\n",
       "      <td>$12.99</td>\n",
       "      <td>11.0</td>\n",
       "      <td>4.3</td>\n",
       "      <td>Easy</td>\n",
       "      <td>4.3</td>\n",
       "      <td>4.1</td>\n",
       "    </tr>\n",
       "    <tr>\n",
       "      <th>3</th>\n",
       "      <td>21030</td>\n",
       "      <td>12+</td>\n",
       "      <td>1032</td>\n",
       "      <td>United States Capitol Building</td>\n",
       "      <td>Explore the architecture of the United States ...</td>\n",
       "      <td>Discover the architectural secrets of the icon...</td>\n",
       "      <td>Architecture</td>\n",
       "      <td>US</td>\n",
       "      <td>$99.99</td>\n",
       "      <td>23.0</td>\n",
       "      <td>3.6</td>\n",
       "      <td>Average</td>\n",
       "      <td>4.6</td>\n",
       "      <td>4.3</td>\n",
       "    </tr>\n",
       "    <tr>\n",
       "      <th>4</th>\n",
       "      <td>21035</td>\n",
       "      <td>12+</td>\n",
       "      <td>744</td>\n",
       "      <td>Solomon R. Guggenheim Museum®</td>\n",
       "      <td>Recreate the Solomon R. Guggenheim Museum® wit...</td>\n",
       "      <td>Discover the architectural secrets of Frank Ll...</td>\n",
       "      <td>Architecture</td>\n",
       "      <td>US</td>\n",
       "      <td>$79.99</td>\n",
       "      <td>14.0</td>\n",
       "      <td>3.2</td>\n",
       "      <td>Challenging</td>\n",
       "      <td>4.6</td>\n",
       "      <td>4.1</td>\n",
       "    </tr>\n",
       "  </tbody>\n",
       "</table>\n",
       "</div>"
      ],
      "text/plain": [
       "   prod_id  ages  piece_count                        set_name  \\\n",
       "0    75823  6-12          277           Bird Island Egg Heist   \n",
       "1    75822  6-12          168              Piggy Plane Attack   \n",
       "2    75821  6-12           74                Piggy Car Escape   \n",
       "3    21030   12+         1032  United States Capitol Building   \n",
       "4    21035   12+          744   Solomon R. Guggenheim Museum®   \n",
       "\n",
       "                                           prod_desc  \\\n",
       "0  Catapult into action and take back the eggs fr...   \n",
       "1  Launch a flying attack and rescue the eggs fro...   \n",
       "2  Chase the piggy with lightning-fast Chuck and ...   \n",
       "3  Explore the architecture of the United States ...   \n",
       "4  Recreate the Solomon R. Guggenheim Museum® wit...   \n",
       "\n",
       "                                      prod_long_desc    theme_name country  \\\n",
       "0  Use the staircase catapult to launch Red into ...  Angry Birds™      US   \n",
       "1  Pilot Pig has taken off from Bird Island with ...  Angry Birds™      US   \n",
       "2  Pitch speedy bird Chuck against the Piggy Car....  Angry Birds™      US   \n",
       "3  Discover the architectural secrets of the icon...  Architecture      US   \n",
       "4  Discover the architectural secrets of Frank Ll...  Architecture      US   \n",
       "\n",
       "  list_price  num_reviews  play_star_rating review_difficulty  star_rating  \\\n",
       "0     $29.99          2.0               4.0           Average          4.5   \n",
       "1     $19.99          2.0               4.0              Easy          5.0   \n",
       "2     $12.99         11.0               4.3              Easy          4.3   \n",
       "3     $99.99         23.0               3.6           Average          4.6   \n",
       "4     $79.99         14.0               3.2       Challenging          4.6   \n",
       "\n",
       "   val_star_rating  \n",
       "0              4.0  \n",
       "1              4.0  \n",
       "2              4.1  \n",
       "3              4.3  \n",
       "4              4.1  "
      ]
     },
     "execution_count": 4,
     "metadata": {},
     "output_type": "execute_result"
    }
   ],
   "source": [
    "# Now, load in the dataset and inspect the head to make sure everything loaded correctly\n",
    "df = pd.read_csv(\"Lego_data_merged.csv\")\n",
    "df.head()\n"
   ]
  },
  {
   "cell_type": "markdown",
   "metadata": {},
   "source": [
    "## Starting our Data Cleaning\n",
    "\n",
    "To start, you'll deal with the most obvious issue: data features with the wrong data encoding.\n",
    "\n",
    "### Checking Data Types\n",
    "\n",
    "In the cell below, use the appropriate method to check the data type of each column. "
   ]
  },
  {
   "cell_type": "code",
   "execution_count": 5,
   "metadata": {},
   "outputs": [
    {
     "name": "stdout",
     "output_type": "stream",
     "text": [
      "<class 'pandas.core.frame.DataFrame'>\n",
      "RangeIndex: 10870 entries, 0 to 10869\n",
      "Data columns (total 14 columns):\n",
      "prod_id              10870 non-null int64\n",
      "ages                 10870 non-null object\n",
      "piece_count          10870 non-null int64\n",
      "set_name             10870 non-null object\n",
      "prod_desc            10512 non-null object\n",
      "prod_long_desc       10870 non-null object\n",
      "theme_name           10870 non-null object\n",
      "country              10870 non-null object\n",
      "list_price           10870 non-null object\n",
      "num_reviews          9449 non-null float64\n",
      "play_star_rating     9321 non-null float64\n",
      "review_difficulty    9104 non-null object\n",
      "star_rating          9449 non-null float64\n",
      "val_star_rating      9301 non-null float64\n",
      "dtypes: float64(4), int64(2), object(8)\n",
      "memory usage: 1.2+ MB\n"
     ]
    }
   ],
   "source": [
    "#Your code here\n",
    "df.info()"
   ]
  },
  {
   "cell_type": "markdown",
   "metadata": {},
   "source": [
    "Now, investigate some of the unique values inside of the `list_price` column."
   ]
  },
  {
   "cell_type": "code",
   "execution_count": 6,
   "metadata": {},
   "outputs": [
    {
     "data": {
      "text/plain": [
       "$24.3878    565\n",
       "$36.5878    520\n",
       "$12.1878    515\n",
       "$18.2878    304\n",
       "$42.6878    234\n",
       "Name: list_price, dtype: int64"
      ]
     },
     "execution_count": 6,
     "metadata": {},
     "output_type": "execute_result"
    }
   ],
   "source": [
    "#Your code here\n",
    "df.list_price.value_counts().head()"
   ]
  },
  {
   "cell_type": "markdown",
   "metadata": {},
   "source": [
    "### Numerical Data Stored as Strings\n",
    "\n",
    "A common issue to check for at this stage is numeric columns that have accidentally been encoded as strings. For example, you should notice that the `list_price` column above is currently formatted as a string and contains a proceeding '$'. Remove this and convert the remaining number to a `float` so that you can later model this value. After all, your primary task is to generate model to predict the price.\n",
    "\n",
    "> Note: While the data spans a multitude of countries, assume for now that all prices have been standardized to USD."
   ]
  },
  {
   "cell_type": "code",
   "execution_count": 7,
   "metadata": {},
   "outputs": [
    {
     "data": {
      "text/plain": [
       "True"
      ]
     },
     "execution_count": 7,
     "metadata": {},
     "output_type": "execute_result"
    }
   ],
   "source": [
    "isinstance(\"gg\",str)"
   ]
  },
  {
   "cell_type": "code",
   "execution_count": 8,
   "metadata": {},
   "outputs": [
    {
     "data": {
      "text/html": [
       "<div>\n",
       "<style scoped>\n",
       "    .dataframe tbody tr th:only-of-type {\n",
       "        vertical-align: middle;\n",
       "    }\n",
       "\n",
       "    .dataframe tbody tr th {\n",
       "        vertical-align: top;\n",
       "    }\n",
       "\n",
       "    .dataframe thead th {\n",
       "        text-align: right;\n",
       "    }\n",
       "</style>\n",
       "<table border=\"1\" class=\"dataframe\">\n",
       "  <thead>\n",
       "    <tr style=\"text-align: right;\">\n",
       "      <th></th>\n",
       "      <th>prod_id</th>\n",
       "      <th>ages</th>\n",
       "      <th>piece_count</th>\n",
       "      <th>set_name</th>\n",
       "      <th>prod_desc</th>\n",
       "      <th>prod_long_desc</th>\n",
       "      <th>theme_name</th>\n",
       "      <th>country</th>\n",
       "      <th>list_price</th>\n",
       "      <th>num_reviews</th>\n",
       "      <th>play_star_rating</th>\n",
       "      <th>review_difficulty</th>\n",
       "      <th>star_rating</th>\n",
       "      <th>val_star_rating</th>\n",
       "    </tr>\n",
       "  </thead>\n",
       "  <tbody>\n",
       "    <tr>\n",
       "      <th>0</th>\n",
       "      <td>75823</td>\n",
       "      <td>6-12</td>\n",
       "      <td>277</td>\n",
       "      <td>Bird Island Egg Heist</td>\n",
       "      <td>Catapult into action and take back the eggs fr...</td>\n",
       "      <td>Use the staircase catapult to launch Red into ...</td>\n",
       "      <td>Angry Birds™</td>\n",
       "      <td>US</td>\n",
       "      <td>29.99</td>\n",
       "      <td>2.0</td>\n",
       "      <td>4.0</td>\n",
       "      <td>Average</td>\n",
       "      <td>4.5</td>\n",
       "      <td>4.0</td>\n",
       "    </tr>\n",
       "    <tr>\n",
       "      <th>1</th>\n",
       "      <td>75822</td>\n",
       "      <td>6-12</td>\n",
       "      <td>168</td>\n",
       "      <td>Piggy Plane Attack</td>\n",
       "      <td>Launch a flying attack and rescue the eggs fro...</td>\n",
       "      <td>Pilot Pig has taken off from Bird Island with ...</td>\n",
       "      <td>Angry Birds™</td>\n",
       "      <td>US</td>\n",
       "      <td>19.99</td>\n",
       "      <td>2.0</td>\n",
       "      <td>4.0</td>\n",
       "      <td>Easy</td>\n",
       "      <td>5.0</td>\n",
       "      <td>4.0</td>\n",
       "    </tr>\n",
       "    <tr>\n",
       "      <th>2</th>\n",
       "      <td>75821</td>\n",
       "      <td>6-12</td>\n",
       "      <td>74</td>\n",
       "      <td>Piggy Car Escape</td>\n",
       "      <td>Chase the piggy with lightning-fast Chuck and ...</td>\n",
       "      <td>Pitch speedy bird Chuck against the Piggy Car....</td>\n",
       "      <td>Angry Birds™</td>\n",
       "      <td>US</td>\n",
       "      <td>12.99</td>\n",
       "      <td>11.0</td>\n",
       "      <td>4.3</td>\n",
       "      <td>Easy</td>\n",
       "      <td>4.3</td>\n",
       "      <td>4.1</td>\n",
       "    </tr>\n",
       "    <tr>\n",
       "      <th>3</th>\n",
       "      <td>21030</td>\n",
       "      <td>12+</td>\n",
       "      <td>1032</td>\n",
       "      <td>United States Capitol Building</td>\n",
       "      <td>Explore the architecture of the United States ...</td>\n",
       "      <td>Discover the architectural secrets of the icon...</td>\n",
       "      <td>Architecture</td>\n",
       "      <td>US</td>\n",
       "      <td>99.99</td>\n",
       "      <td>23.0</td>\n",
       "      <td>3.6</td>\n",
       "      <td>Average</td>\n",
       "      <td>4.6</td>\n",
       "      <td>4.3</td>\n",
       "    </tr>\n",
       "    <tr>\n",
       "      <th>4</th>\n",
       "      <td>21035</td>\n",
       "      <td>12+</td>\n",
       "      <td>744</td>\n",
       "      <td>Solomon R. Guggenheim Museum®</td>\n",
       "      <td>Recreate the Solomon R. Guggenheim Museum® wit...</td>\n",
       "      <td>Discover the architectural secrets of Frank Ll...</td>\n",
       "      <td>Architecture</td>\n",
       "      <td>US</td>\n",
       "      <td>79.99</td>\n",
       "      <td>14.0</td>\n",
       "      <td>3.2</td>\n",
       "      <td>Challenging</td>\n",
       "      <td>4.6</td>\n",
       "      <td>4.1</td>\n",
       "    </tr>\n",
       "  </tbody>\n",
       "</table>\n",
       "</div>"
      ],
      "text/plain": [
       "   prod_id  ages  piece_count                        set_name  \\\n",
       "0    75823  6-12          277           Bird Island Egg Heist   \n",
       "1    75822  6-12          168              Piggy Plane Attack   \n",
       "2    75821  6-12           74                Piggy Car Escape   \n",
       "3    21030   12+         1032  United States Capitol Building   \n",
       "4    21035   12+          744   Solomon R. Guggenheim Museum®   \n",
       "\n",
       "                                           prod_desc  \\\n",
       "0  Catapult into action and take back the eggs fr...   \n",
       "1  Launch a flying attack and rescue the eggs fro...   \n",
       "2  Chase the piggy with lightning-fast Chuck and ...   \n",
       "3  Explore the architecture of the United States ...   \n",
       "4  Recreate the Solomon R. Guggenheim Museum® wit...   \n",
       "\n",
       "                                      prod_long_desc    theme_name country  \\\n",
       "0  Use the staircase catapult to launch Red into ...  Angry Birds™      US   \n",
       "1  Pilot Pig has taken off from Bird Island with ...  Angry Birds™      US   \n",
       "2  Pitch speedy bird Chuck against the Piggy Car....  Angry Birds™      US   \n",
       "3  Discover the architectural secrets of the icon...  Architecture      US   \n",
       "4  Discover the architectural secrets of Frank Ll...  Architecture      US   \n",
       "\n",
       "   list_price  num_reviews  play_star_rating review_difficulty  star_rating  \\\n",
       "0       29.99          2.0               4.0           Average          4.5   \n",
       "1       19.99          2.0               4.0              Easy          5.0   \n",
       "2       12.99         11.0               4.3              Easy          4.3   \n",
       "3       99.99         23.0               3.6           Average          4.6   \n",
       "4       79.99         14.0               3.2       Challenging          4.6   \n",
       "\n",
       "   val_star_rating  \n",
       "0              4.0  \n",
       "1              4.0  \n",
       "2              4.1  \n",
       "3              4.3  \n",
       "4              4.1  "
      ]
     },
     "execution_count": 8,
     "metadata": {},
     "output_type": "execute_result"
    }
   ],
   "source": [
    "#Your code here\n",
    "def clean_dollar(value):\n",
    "    if isinstance(value,str):\n",
    "        mod = value.replace(\"$\",\"\")\n",
    "        return float(mod)\n",
    "    else: \n",
    "        return value\n",
    "\n",
    "df[\"list_price\"] = df.list_price.apply(lambda x: clean_dollar(x))\n",
    "df.head()"
   ]
  },
  {
   "cell_type": "markdown",
   "metadata": {},
   "source": [
    "### Detecting and Dealing With Null Values\n",
    "\n",
    "Next, it's time to check for null values. How to deal with the null values will be determined by the columns containing them, and how many null values exist in each.  \n",
    " \n",
    "In the cell below, get a count of how many null values exist in each column in the DataFrame. "
   ]
  },
  {
   "cell_type": "code",
   "execution_count": 9,
   "metadata": {},
   "outputs": [
    {
     "data": {
      "text/plain": [
       "prod_id                 0\n",
       "ages                    0\n",
       "piece_count             0\n",
       "set_name                0\n",
       "prod_desc             358\n",
       "prod_long_desc          0\n",
       "theme_name              0\n",
       "country                 0\n",
       "list_price              0\n",
       "num_reviews          1421\n",
       "play_star_rating     1549\n",
       "review_difficulty    1766\n",
       "star_rating          1421\n",
       "val_star_rating      1569\n",
       "dtype: int64"
      ]
     },
     "execution_count": 9,
     "metadata": {},
     "output_type": "execute_result"
    }
   ],
   "source": [
    "#Your code here\n",
    "df.isnull().sum()"
   ]
  },
  {
   "cell_type": "markdown",
   "metadata": {},
   "source": [
    "Now, get some descriptive statistics for each of the columns. You want to see where the minimum and maximum values lie.  "
   ]
  },
  {
   "cell_type": "code",
   "execution_count": 10,
   "metadata": {},
   "outputs": [
    {
     "data": {
      "text/plain": [
       "prod_desc             358.0\n",
       "num_reviews          1421.0\n",
       "play_star_rating     1549.0\n",
       "review_difficulty    1766.0\n",
       "star_rating          1421.0\n",
       "val_star_rating      1569.0\n",
       "dtype: float64"
      ]
     },
     "execution_count": 10,
     "metadata": {},
     "output_type": "execute_result"
    }
   ],
   "source": [
    "nans = df.isnull().sum()\n",
    "nans = nans.where(nans>0).dropna()\n",
    "nans"
   ]
  },
  {
   "cell_type": "code",
   "execution_count": 11,
   "metadata": {
    "scrolled": true
   },
   "outputs": [
    {
     "name": "stdout",
     "output_type": "stream",
     "text": [
      "Col: prod_desc\n",
      "count                                                 10512\n",
      "unique                                                  724\n",
      "top       Perform a daring helicopter rescue before the ...\n",
      "freq                                                     21\n",
      "Name: prod_desc, dtype: object\n",
      "Most common Values:\n",
      "Cruise into the jungle and make a big discovery!                               21\n",
      "Move heavy goods across LEGO® City with the Cargo Train!                       21\n",
      "Travel back to the future with LEGO® BrickHeadz™ Marty McFly and Doc Brown!    21\n",
      "Battle the Empire with the amazing Rebel U-Wing Fighter!                       21\n",
      "Help Batman™ to stop Scarecrow™ delivering a special scare pizza!              21\n",
      "Name: prod_desc, dtype: int64\n",
      "=======================\n",
      "\n",
      "Col: num_reviews\n",
      "count    9449.000000\n",
      "mean       17.813737\n",
      "std        38.166693\n",
      "min         1.000000\n",
      "25%         2.000000\n",
      "50%         6.000000\n",
      "75%        14.000000\n",
      "max       367.000000\n",
      "Name: num_reviews, dtype: float64\n",
      "Most common Values:\n",
      "2.0    1299\n",
      "1.0    1261\n",
      "3.0     815\n",
      "4.0     628\n",
      "6.0     494\n",
      "Name: num_reviews, dtype: int64\n",
      "=======================\n",
      "\n",
      "Col: play_star_rating\n",
      "count    9321.000000\n",
      "mean        4.355413\n",
      "std         0.617272\n",
      "min         1.000000\n",
      "25%         4.000000\n",
      "50%         4.500000\n",
      "75%         4.800000\n",
      "max         5.000000\n",
      "Name: play_star_rating, dtype: float64\n",
      "Most common Values:\n",
      "5.0    2005\n",
      "4.5    1045\n",
      "4.0     791\n",
      "4.7     743\n",
      "4.3     655\n",
      "Name: play_star_rating, dtype: int64\n",
      "=======================\n",
      "\n",
      "Col: review_difficulty\n",
      "count     9104\n",
      "unique       5\n",
      "top       Easy\n",
      "freq      3826\n",
      "Name: review_difficulty, dtype: object\n",
      "Most common Values:\n",
      "Easy                3826\n",
      "Average             3357\n",
      "Challenging          995\n",
      "Very Easy            905\n",
      "Very Challenging      21\n",
      "Name: review_difficulty, dtype: int64\n",
      "=======================\n",
      "\n",
      "Col: star_rating\n",
      "count    9449.000000\n",
      "mean        4.510319\n",
      "std         0.516463\n",
      "min         1.800000\n",
      "25%         4.300000\n",
      "50%         4.600000\n",
      "75%         5.000000\n",
      "max         5.000000\n",
      "Name: star_rating, dtype: float64\n",
      "Most common Values:\n",
      "5.0    2380\n",
      "4.7     969\n",
      "4.8     963\n",
      "4.0     858\n",
      "4.5     829\n",
      "Name: star_rating, dtype: int64\n",
      "=======================\n",
      "\n",
      "Col: val_star_rating\n",
      "count    9301.000000\n",
      "mean        4.214439\n",
      "std         0.670906\n",
      "min         1.000000\n",
      "25%         4.000000\n",
      "50%         4.300000\n",
      "75%         4.700000\n",
      "max         5.000000\n",
      "Name: val_star_rating, dtype: float64\n",
      "Most common Values:\n",
      "5.0    1455\n",
      "4.0    1167\n",
      "4.5     790\n",
      "4.3     765\n",
      "4.7     599\n",
      "Name: val_star_rating, dtype: int64\n",
      "=======================\n",
      "\n"
     ]
    }
   ],
   "source": [
    "#Your code here\n",
    "for column in nans.index:\n",
    "    print(f\"Col: {column}\")\n",
    "    print(df[column].describe())\n",
    "    print(\"Most common Values:\")\n",
    "    print(df[column].value_counts().sort_values(ascending = False).head(5))\n",
    "    print(\"=======================\")\n",
    "    print()\n",
    "    "
   ]
  },
  {
   "cell_type": "code",
   "execution_count": 12,
   "metadata": {},
   "outputs": [],
   "source": [
    "#product description --> None Category\n",
    "df.prod_desc.fillna(\"No description available\", inplace = True)"
   ]
  },
  {
   "cell_type": "code",
   "execution_count": 13,
   "metadata": {},
   "outputs": [],
   "source": [
    "#num reviews --> Replace with 0\n",
    "df.num_reviews.fillna(0, inplace = True)"
   ]
  },
  {
   "cell_type": "code",
   "execution_count": 14,
   "metadata": {},
   "outputs": [],
   "source": [
    "#play_star_rating --> fill with mean()\n",
    "df.play_star_rating.fillna(round(df.play_star_rating.mean(),1), inplace = True)\n"
   ]
  },
  {
   "cell_type": "markdown",
   "metadata": {},
   "source": [
    "Now that you have a bit more of a understanding of each of these features you can now make an informed decision about the best strategy for dealing with the various null values. \n",
    "\n",
    "Some common strategies for filling null values include:\n",
    "* Using the mean of the feature\n",
    "* Using the median of the feature\n",
    "* Inserting a random value from a normal distribution with the mean and std of the feature\n",
    "* Binning\n",
    "\n",
    "Given that most of the features with null values concern user reviews of the lego set, it is reasonable to wonder whether there is strong correlation between these features in the first place. Before proceeding, take a minute to investigate this hypothesis."
   ]
  },
  {
   "cell_type": "code",
   "execution_count": 21,
   "metadata": {
    "scrolled": true
   },
   "outputs": [
    {
     "data": {
      "text/html": [
       "<div>\n",
       "<style scoped>\n",
       "    .dataframe tbody tr th:only-of-type {\n",
       "        vertical-align: middle;\n",
       "    }\n",
       "\n",
       "    .dataframe tbody tr th {\n",
       "        vertical-align: top;\n",
       "    }\n",
       "\n",
       "    .dataframe thead th {\n",
       "        text-align: right;\n",
       "    }\n",
       "</style>\n",
       "<table border=\"1\" class=\"dataframe\">\n",
       "  <thead>\n",
       "    <tr style=\"text-align: right;\">\n",
       "      <th></th>\n",
       "      <th>num_reviews</th>\n",
       "      <th>play_star_rating</th>\n",
       "      <th>star_rating</th>\n",
       "      <th>val_star_rating</th>\n",
       "    </tr>\n",
       "  </thead>\n",
       "  <tbody>\n",
       "    <tr>\n",
       "      <th>num_reviews</th>\n",
       "      <td>1.000000</td>\n",
       "      <td>-0.064673</td>\n",
       "      <td>0.004541</td>\n",
       "      <td>0.026664</td>\n",
       "    </tr>\n",
       "    <tr>\n",
       "      <th>play_star_rating</th>\n",
       "      <td>-0.064673</td>\n",
       "      <td>1.000000</td>\n",
       "      <td>0.615986</td>\n",
       "      <td>0.484341</td>\n",
       "    </tr>\n",
       "    <tr>\n",
       "      <th>star_rating</th>\n",
       "      <td>0.004541</td>\n",
       "      <td>0.615986</td>\n",
       "      <td>1.000000</td>\n",
       "      <td>0.731538</td>\n",
       "    </tr>\n",
       "    <tr>\n",
       "      <th>val_star_rating</th>\n",
       "      <td>0.026664</td>\n",
       "      <td>0.484341</td>\n",
       "      <td>0.731538</td>\n",
       "      <td>1.000000</td>\n",
       "    </tr>\n",
       "  </tbody>\n",
       "</table>\n",
       "</div>"
      ],
      "text/plain": [
       "                  num_reviews  play_star_rating  star_rating  val_star_rating\n",
       "num_reviews          1.000000         -0.064673     0.004541         0.026664\n",
       "play_star_rating    -0.064673          1.000000     0.615986         0.484341\n",
       "star_rating          0.004541          0.615986     1.000000         0.731538\n",
       "val_star_rating      0.026664          0.484341     0.731538         1.000000"
      ]
     },
     "execution_count": 21,
     "metadata": {},
     "output_type": "execute_result"
    }
   ],
   "source": [
    "#Investigate whether multicollinearity exists between the review features \n",
    "#(num_reviews, play_star_rating, star_rating, val_star_rating)\n",
    "ratings = [\"num_reviews\", \"play_star_rating\", \"star_rating\", \"val_star_rating\"]\n",
    "df[ratings].corr()"
   ]
  },
  {
   "cell_type": "markdown",
   "metadata": {},
   "source": [
    " "
   ]
  },
  {
   "cell_type": "markdown",
   "metadata": {},
   "source": [
    "Note that there is substantial correlation between the `play_star_rating`, `star_rating` and `val_star_rating`. While this could lead to multicollinearity in your eventual regression model, it is too early to clearly determine this at this point. Remember that multicollinearity is a relationship between 3 or more variables while correlation simply investigates the relationship between two variables.\n",
    "\n",
    "Additionally, these relationships provide an alternative method for imputing missing values: since they appear to be correlated, you could use these features to help impute missing values in the others features. For example, if you are missing the star_rating for a particular row but have the val_star_rating for that same entry, it seems reasonable to assume that it is a good estimate for the missing star_rating value as they are highly correlated. That said, doing so does come with risks; indeed you would be further increasing the correlation between these features which could further provoke multicollinearity in the final model.\n",
    "\n",
    "Investigate if you could use one of the other star rating features when one is missing. How many rows have one of `play_star_rating`, `star_rating` and `val_star_rating` missing, but not all three."
   ]
  },
  {
   "cell_type": "code",
   "execution_count": null,
   "metadata": {},
   "outputs": [],
   "source": [
    "#Your code here"
   ]
  },
  {
   "cell_type": "markdown",
   "metadata": {},
   "source": [
    "Well, it seems like when one is missing, the other two are also apt to be missing. While this has been a bit of an extended investigation, simply go ahead and fill the missing values with that features median.  \n",
    "\n",
    "Fill in the missing `review_difficulty` values with 'unknown'."
   ]
  },
  {
   "cell_type": "code",
   "execution_count": null,
   "metadata": {},
   "outputs": [],
   "source": [
    "#Your code here"
   ]
  },
  {
   "cell_type": "markdown",
   "metadata": {},
   "source": [
    "## Normalizing the Data\n",
    "\n",
    "Now, you'll need to convert all of our numeric columns to the same scale by **_normalizing_** our dataset.  Recall that you normalize a dataset by converting each numeric value to it's corresponding z-score for the column, which is obtained by subtracting the column's mean and then dividing by the column's standard deviation for every value. \n",
    "\n",
    "\n",
    "In the cell below:\n",
    "\n",
    "* Normalize the numeric X features by subtracting the column mean and dividing by the column standard deviation. \n",
    "(Don't bother to normalize the list_price as this is the feature you will be predicting.)"
   ]
  },
  {
   "cell_type": "code",
   "execution_count": null,
   "metadata": {},
   "outputs": [],
   "source": [
    "#Your code here"
   ]
  },
  {
   "cell_type": "markdown",
   "metadata": {},
   "source": [
    "## Saving Your Results\n",
    "\n",
    "While you'll once again practice one-hot encoding as you would to preprocess data before fitting a model, saving such a reperesentation of the data will eat up additional disk space. After all, a categorical variable with 10 bins will be transformed to 10 seperate features when passed through `pd.get_dummies()`. As such, while the further practice is worthwhile, save your DataFrame as is for now."
   ]
  },
  {
   "cell_type": "code",
   "execution_count": null,
   "metadata": {},
   "outputs": [],
   "source": [
    "#Your code here"
   ]
  },
  {
   "cell_type": "markdown",
   "metadata": {},
   "source": [
    "## One-Hot Encoding Categorical Columns\n",
    "\n",
    "As a final step, you'll need to deal with the categorical columns by **_one-hot encoding_** them into binary variables via the `pd.get_dummies()` method.  \n",
    "\n",
    "When doing this, you should also subset to appropriate features. If you were to simply pass the entire DataFrame to the `pd.get_dummies()` method as it stands now, then you would end up with unique features for every single product description! (Presumably the descriptions are unique.) As such, you should first subset to the numeric features that you will eventually use in a model along with categorical variables that are not unique.\n",
    "\n",
    "In the cell below, subset to the appropriate predictive features and then use the [`pd.get_dummies()`](https://pandas.pydata.org/pandas-docs/stable/generated/pandas.get_dummies.html) to one-hot encode the dataset."
   ]
  },
  {
   "cell_type": "code",
   "execution_count": null,
   "metadata": {},
   "outputs": [],
   "source": [
    "#Your code here"
   ]
  },
  {
   "cell_type": "markdown",
   "metadata": {},
   "source": [
    "That's it! You've now successfully scrubbed your dataset--you're now ready for data exploration and modeling!\n",
    "\n",
    "## Summary\n",
    "\n",
    "In this lesson, you learned gain practice with data cleaning by:\n",
    "\n",
    "* Casting columns to the appropriate data types\n",
    "* Identifying and deal with null values appropriately\n",
    "* Removing unnecessary columns\n",
    "* Checking for and deal with multicollinearity\n",
    "* Normalizing your data"
   ]
  }
 ],
 "metadata": {
  "kernelspec": {
   "display_name": "Python 3",
   "language": "python",
   "name": "python3"
  },
  "language_info": {
   "codemirror_mode": {
    "name": "ipython",
    "version": 3
   },
   "file_extension": ".py",
   "mimetype": "text/x-python",
   "name": "python",
   "nbconvert_exporter": "python",
   "pygments_lexer": "ipython3",
   "version": "3.6.6"
  }
 },
 "nbformat": 4,
 "nbformat_minor": 2
}
